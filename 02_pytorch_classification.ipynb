{
  "cells": [
    {
      "cell_type": "markdown",
      "metadata": {
        "id": "view-in-github",
        "colab_type": "text"
      },
      "source": [
        "<a href=\"https://colab.research.google.com/github/musfiq2546/ml-learning/blob/main/02_pytorch_classification.ipynb\" target=\"_parent\"><img src=\"https://colab.research.google.com/assets/colab-badge.svg\" alt=\"Open In Colab\"/></a>"
      ]
    },
    {
      "cell_type": "markdown",
      "metadata": {
        "id": "Wca90EyB4b77"
      },
      "source": [
        "# 02. Neural Network Classification with PyTorch\n",
        "\n",
        "Classification is a problem of predicting whether something is one thing or another (there can be multiple things as the options).\n",
        "\n",
        "Book version of things notebook: https://www.learnpytorch.io/02_pytorch_classification/\n",
        "\n",
        "All other resources - https://github.com/mrdbourke/pytorch-deep-learning"
      ]
    },
    {
      "cell_type": "markdown",
      "metadata": {
        "id": "5_Wm9nwV58kQ"
      },
      "source": [
        "## 1. Make classification data and get it ready"
      ]
    },
    {
      "cell_type": "code",
      "execution_count": 149,
      "metadata": {
        "id": "XP_gyMUo7S89",
        "colab": {
          "base_uri": "https://localhost:8080/"
        },
        "outputId": "d62e481f-db39-4804-eb5f-e6c330a0e47c"
      },
      "outputs": [
        {
          "output_type": "execute_result",
          "data": {
            "text/plain": [
              "(1000, 1000)"
            ]
          },
          "metadata": {},
          "execution_count": 149
        }
      ],
      "source": [
        "import sklearn\n",
        "from sklearn.datasets import make_circles \n",
        "\n",
        "# make 1000 samples\n",
        "n_samples = 1000\n",
        "\n",
        "# make circles \n",
        "X, y = make_circles(n_samples,          # X number of features  and y is the level\n",
        "                    noise = 0.03,\n",
        "                    random_state= 42)\n",
        "len(X), len(y)"
      ]
    },
    {
      "cell_type": "markdown",
      "metadata": {
        "id": "tZBJc89lM7ZB"
      },
      "source": [
        "Make_circle means one larger circle containing a small circle inside"
      ]
    },
    {
      "cell_type": "code",
      "execution_count": 150,
      "metadata": {
        "colab": {
          "base_uri": "https://localhost:8080/"
        },
        "id": "6mT55eHTL_86",
        "outputId": "9faf718f-c900-4f2d-f869-ab9cebb9fb85"
      },
      "outputs": [
        {
          "output_type": "stream",
          "name": "stdout",
          "text": [
            "First 5 sample of X: \n",
            " [[ 0.75424625  0.23148074]\n",
            " [-0.75615888  0.15325888]\n",
            " [-0.81539193  0.17328203]\n",
            " [-0.39373073  0.69288277]\n",
            " [ 0.44220765 -0.89672343]]\n",
            "First 5 samples of y: \n",
            " [1 1 1 1 0]\n"
          ]
        }
      ],
      "source": [
        "print(f\"First 5 sample of X: \\n {X[:5]}\")\n",
        "print(f\"First 5 samples of y: \\n {y[:5]}\")\n",
        "# Here we can see that there is 2 features per sample"
      ]
    },
    {
      "cell_type": "code",
      "execution_count": 151,
      "metadata": {
        "colab": {
          "base_uri": "https://localhost:8080/",
          "height": 363
        },
        "id": "NiXaITwbMs6v",
        "outputId": "af1f4c45-fb7e-43fc-f284-cd12eb12aa58"
      },
      "outputs": [
        {
          "output_type": "execute_result",
          "data": {
            "text/plain": [
              "         X1        X2  label\n",
              "0  0.754246  0.231481      1\n",
              "1 -0.756159  0.153259      1\n",
              "2 -0.815392  0.173282      1\n",
              "3 -0.393731  0.692883      1\n",
              "4  0.442208 -0.896723      0\n",
              "5 -0.479646  0.676435      1\n",
              "6 -0.013648  0.803349      1\n",
              "7  0.771513  0.147760      1\n",
              "8 -0.169322 -0.793456      1\n",
              "9 -0.121486  1.021509      0"
            ],
            "text/html": [
              "\n",
              "  <div id=\"df-d3c4b834-8d8a-44e6-9a57-3729f0e1fe49\">\n",
              "    <div class=\"colab-df-container\">\n",
              "      <div>\n",
              "<style scoped>\n",
              "    .dataframe tbody tr th:only-of-type {\n",
              "        vertical-align: middle;\n",
              "    }\n",
              "\n",
              "    .dataframe tbody tr th {\n",
              "        vertical-align: top;\n",
              "    }\n",
              "\n",
              "    .dataframe thead th {\n",
              "        text-align: right;\n",
              "    }\n",
              "</style>\n",
              "<table border=\"1\" class=\"dataframe\">\n",
              "  <thead>\n",
              "    <tr style=\"text-align: right;\">\n",
              "      <th></th>\n",
              "      <th>X1</th>\n",
              "      <th>X2</th>\n",
              "      <th>label</th>\n",
              "    </tr>\n",
              "  </thead>\n",
              "  <tbody>\n",
              "    <tr>\n",
              "      <th>0</th>\n",
              "      <td>0.754246</td>\n",
              "      <td>0.231481</td>\n",
              "      <td>1</td>\n",
              "    </tr>\n",
              "    <tr>\n",
              "      <th>1</th>\n",
              "      <td>-0.756159</td>\n",
              "      <td>0.153259</td>\n",
              "      <td>1</td>\n",
              "    </tr>\n",
              "    <tr>\n",
              "      <th>2</th>\n",
              "      <td>-0.815392</td>\n",
              "      <td>0.173282</td>\n",
              "      <td>1</td>\n",
              "    </tr>\n",
              "    <tr>\n",
              "      <th>3</th>\n",
              "      <td>-0.393731</td>\n",
              "      <td>0.692883</td>\n",
              "      <td>1</td>\n",
              "    </tr>\n",
              "    <tr>\n",
              "      <th>4</th>\n",
              "      <td>0.442208</td>\n",
              "      <td>-0.896723</td>\n",
              "      <td>0</td>\n",
              "    </tr>\n",
              "    <tr>\n",
              "      <th>5</th>\n",
              "      <td>-0.479646</td>\n",
              "      <td>0.676435</td>\n",
              "      <td>1</td>\n",
              "    </tr>\n",
              "    <tr>\n",
              "      <th>6</th>\n",
              "      <td>-0.013648</td>\n",
              "      <td>0.803349</td>\n",
              "      <td>1</td>\n",
              "    </tr>\n",
              "    <tr>\n",
              "      <th>7</th>\n",
              "      <td>0.771513</td>\n",
              "      <td>0.147760</td>\n",
              "      <td>1</td>\n",
              "    </tr>\n",
              "    <tr>\n",
              "      <th>8</th>\n",
              "      <td>-0.169322</td>\n",
              "      <td>-0.793456</td>\n",
              "      <td>1</td>\n",
              "    </tr>\n",
              "    <tr>\n",
              "      <th>9</th>\n",
              "      <td>-0.121486</td>\n",
              "      <td>1.021509</td>\n",
              "      <td>0</td>\n",
              "    </tr>\n",
              "  </tbody>\n",
              "</table>\n",
              "</div>\n",
              "      <button class=\"colab-df-convert\" onclick=\"convertToInteractive('df-d3c4b834-8d8a-44e6-9a57-3729f0e1fe49')\"\n",
              "              title=\"Convert this dataframe to an interactive table.\"\n",
              "              style=\"display:none;\">\n",
              "        \n",
              "  <svg xmlns=\"http://www.w3.org/2000/svg\" height=\"24px\"viewBox=\"0 0 24 24\"\n",
              "       width=\"24px\">\n",
              "    <path d=\"M0 0h24v24H0V0z\" fill=\"none\"/>\n",
              "    <path d=\"M18.56 5.44l.94 2.06.94-2.06 2.06-.94-2.06-.94-.94-2.06-.94 2.06-2.06.94zm-11 1L8.5 8.5l.94-2.06 2.06-.94-2.06-.94L8.5 2.5l-.94 2.06-2.06.94zm10 10l.94 2.06.94-2.06 2.06-.94-2.06-.94-.94-2.06-.94 2.06-2.06.94z\"/><path d=\"M17.41 7.96l-1.37-1.37c-.4-.4-.92-.59-1.43-.59-.52 0-1.04.2-1.43.59L10.3 9.45l-7.72 7.72c-.78.78-.78 2.05 0 2.83L4 21.41c.39.39.9.59 1.41.59.51 0 1.02-.2 1.41-.59l7.78-7.78 2.81-2.81c.8-.78.8-2.07 0-2.86zM5.41 20L4 18.59l7.72-7.72 1.47 1.35L5.41 20z\"/>\n",
              "  </svg>\n",
              "      </button>\n",
              "      \n",
              "  <style>\n",
              "    .colab-df-container {\n",
              "      display:flex;\n",
              "      flex-wrap:wrap;\n",
              "      gap: 12px;\n",
              "    }\n",
              "\n",
              "    .colab-df-convert {\n",
              "      background-color: #E8F0FE;\n",
              "      border: none;\n",
              "      border-radius: 50%;\n",
              "      cursor: pointer;\n",
              "      display: none;\n",
              "      fill: #1967D2;\n",
              "      height: 32px;\n",
              "      padding: 0 0 0 0;\n",
              "      width: 32px;\n",
              "    }\n",
              "\n",
              "    .colab-df-convert:hover {\n",
              "      background-color: #E2EBFA;\n",
              "      box-shadow: 0px 1px 2px rgba(60, 64, 67, 0.3), 0px 1px 3px 1px rgba(60, 64, 67, 0.15);\n",
              "      fill: #174EA6;\n",
              "    }\n",
              "\n",
              "    [theme=dark] .colab-df-convert {\n",
              "      background-color: #3B4455;\n",
              "      fill: #D2E3FC;\n",
              "    }\n",
              "\n",
              "    [theme=dark] .colab-df-convert:hover {\n",
              "      background-color: #434B5C;\n",
              "      box-shadow: 0px 1px 3px 1px rgba(0, 0, 0, 0.15);\n",
              "      filter: drop-shadow(0px 1px 2px rgba(0, 0, 0, 0.3));\n",
              "      fill: #FFFFFF;\n",
              "    }\n",
              "  </style>\n",
              "\n",
              "      <script>\n",
              "        const buttonEl =\n",
              "          document.querySelector('#df-d3c4b834-8d8a-44e6-9a57-3729f0e1fe49 button.colab-df-convert');\n",
              "        buttonEl.style.display =\n",
              "          google.colab.kernel.accessAllowed ? 'block' : 'none';\n",
              "\n",
              "        async function convertToInteractive(key) {\n",
              "          const element = document.querySelector('#df-d3c4b834-8d8a-44e6-9a57-3729f0e1fe49');\n",
              "          const dataTable =\n",
              "            await google.colab.kernel.invokeFunction('convertToInteractive',\n",
              "                                                     [key], {});\n",
              "          if (!dataTable) return;\n",
              "\n",
              "          const docLinkHtml = 'Like what you see? Visit the ' +\n",
              "            '<a target=\"_blank\" href=https://colab.research.google.com/notebooks/data_table.ipynb>data table notebook</a>'\n",
              "            + ' to learn more about interactive tables.';\n",
              "          element.innerHTML = '';\n",
              "          dataTable['output_type'] = 'display_data';\n",
              "          await google.colab.output.renderOutput(dataTable, element);\n",
              "          const docLink = document.createElement('div');\n",
              "          docLink.innerHTML = docLinkHtml;\n",
              "          element.appendChild(docLink);\n",
              "        }\n",
              "      </script>\n",
              "    </div>\n",
              "  </div>\n",
              "  "
            ]
          },
          "metadata": {},
          "execution_count": 151
        }
      ],
      "source": [
        "# make dataframe of circle data \n",
        "import pandas as pd \n",
        "circles = pd.DataFrame({ \"X1\": X[:,0],\n",
        "                        \"X2\": X[:, 1],\n",
        "                        \"label\": y})\n",
        "circles.head(10)\n"
      ]
    },
    {
      "cell_type": "code",
      "execution_count": 152,
      "metadata": {
        "colab": {
          "base_uri": "https://localhost:8080/",
          "height": 265
        },
        "id": "EMndnDT7PlVT",
        "outputId": "f013af13-302a-4bd7-849a-e4f3428e74c8"
      },
      "outputs": [
        {
          "output_type": "display_data",
          "data": {
            "text/plain": [
              "<Figure size 432x288 with 1 Axes>"
            ],
            "image/png": "[encoded data removed]"
          },
          "metadata": {
            "needs_background": "light"
          }
        }
      ],
      "source": [
        "# Visualize, visualize, visualize \n",
        "import matplotlib.pyplot as plt\n",
        "plt.scatter(x= X[:,0],\n",
        "            y= X[:,1],\n",
        "            c=y,\n",
        "            cmap= plt.cm.RdYlBu);\n",
        "\n",
        "\n"
      ]
    },
    {
      "cell_type": "markdown",
      "metadata": {
        "id": "9kcauy_mSyn7"
      },
      "source": [
        "Note: The data we're working with is often referred to as a toy dataset, a data set that is small enough to experiment but still sizeable enough to practice the fundamentals\n",
        "\n",
        "Resource: https://scikit-learn.org/stable/datasets/toy_dataset.html"
      ]
    },
    {
      "cell_type": "markdown",
      "metadata": {
        "id": "H9cB6TACnsai"
      },
      "source": [
        "### 1.1 check input and output shapes "
      ]
    },
    {
      "cell_type": "code",
      "execution_count": 153,
      "metadata": {
        "colab": {
          "base_uri": "https://localhost:8080/"
        },
        "id": "blA9GTMFxhzm",
        "outputId": "3b818071-0eba-4052-97db-b891020514fc"
      },
      "outputs": [
        {
          "output_type": "execute_result",
          "data": {
            "text/plain": [
              "((1000, 2), (1000,))"
            ]
          },
          "metadata": {},
          "execution_count": 153
        }
      ],
      "source": [
        "X.shape , y.shape"
      ]
    },
    {
      "cell_type": "code",
      "execution_count": 154,
      "metadata": {
        "colab": {
          "base_uri": "https://localhost:8080/"
        },
        "id": "5EOC6Sx_xks7",
        "outputId": "30ce3562-c598-437d-ad1c-f6dc3bfe2cc4"
      },
      "outputs": [
        {
          "output_type": "execute_result",
          "data": {
            "text/plain": [
              "(array([[ 0.75424625,  0.23148074],\n",
              "        [-0.75615888,  0.15325888],\n",
              "        [-0.81539193,  0.17328203],\n",
              "        ...,\n",
              "        [-0.13690036, -0.81001183],\n",
              "        [ 0.67036156, -0.76750154],\n",
              "        [ 0.28105665,  0.96382443]]), 1000)"
            ]
          },
          "metadata": {},
          "execution_count": 154
        }
      ],
      "source": [
        "X, len(X)"
      ]
    },
    {
      "cell_type": "code",
      "execution_count": 155,
      "metadata": {
        "colab": {
          "base_uri": "https://localhost:8080/"
        },
        "id": "lNa7JCtwxyom",
        "outputId": "3c34799b-b1df-41ea-b0e6-21f89bc522a2"
      },
      "outputs": [
        {
          "output_type": "stream",
          "name": "stdout",
          "text": [
            " Values for one sample of X: [0.75424625 0.23148074] and the same for y: 1\n",
            " Shapes for one sample of X: (2,) and shape for one sample of y: ()\n"
          ]
        }
      ],
      "source": [
        "# View the first example of features and level \n",
        "X_sample = X[0]\n",
        "y_sample = y[0]\n",
        "\n",
        "print(f\" Values for one sample of X: {X_sample} and the same for y: {y_sample}\")\n",
        "print(f\" Shapes for one sample of X: {X_sample.shape} and shape for one sample of y: {y_sample.shape}\")"
      ]
    },
    {
      "cell_type": "markdown",
      "metadata": {
        "id": "GOEEd0xlzs-N"
      },
      "source": [
        "### 1.2 Turn data into tensors and create train and test splits \n"
      ]
    },
    {
      "cell_type": "code",
      "execution_count": 156,
      "metadata": {
        "colab": {
          "base_uri": "https://localhost:8080/",
          "height": 35
        },
        "id": "RMYnUt4D0glJ",
        "outputId": "80772387-45e6-417e-f883-59ddc2f02c5b"
      },
      "outputs": [
        {
          "output_type": "execute_result",
          "data": {
            "text/plain": [
              "'1.13.1+cu116'"
            ],
            "application/vnd.google.colaboratory.intrinsic+json": {
              "type": "string"
            }
          },
          "metadata": {},
          "execution_count": 156
        }
      ],
      "source": [
        "import torch\n",
        "import numpy as np\n",
        "torch.__version__"
      ]
    },
    {
      "cell_type": "code",
      "execution_count": 157,
      "metadata": {
        "colab": {
          "base_uri": "https://localhost:8080/"
        },
        "id": "OfmDpovJ4XNi",
        "outputId": "b24cf5cf-64af-434a-bc49-8eec7c5780bd"
      },
      "outputs": [
        {
          "output_type": "execute_result",
          "data": {
            "text/plain": [
              "(numpy.ndarray, dtype('float64'))"
            ]
          },
          "metadata": {},
          "execution_count": 157
        }
      ],
      "source": [
        "type(X), X.dtype"
      ]
    },
    {
      "cell_type": "code",
      "execution_count": 158,
      "metadata": {
        "colab": {
          "base_uri": "https://localhost:8080/"
        },
        "id": "vZEvc4SN0wmx",
        "outputId": "90dcc833-8f40-4481-fc7c-d51d6467bfc4"
      },
      "outputs": [
        {
          "output_type": "execute_result",
          "data": {
            "text/plain": [
              "(tensor([[ 0.7542,  0.2315],\n",
              "         [-0.7562,  0.1533],\n",
              "         [-0.8154,  0.1733],\n",
              "         [-0.3937,  0.6929],\n",
              "         [ 0.4422, -0.8967]]), tensor([1., 1., 1., 1., 0.]))"
            ]
          },
          "metadata": {},
          "execution_count": 158
        }
      ],
      "source": [
        "# turn data into tensors . Cause here dataset in arrey , we have to convert it to tensors.\n",
        "X = torch.from_numpy(X).type(torch.float32)\n",
        "y = torch.from_numpy(y).type(torch.float32)\n",
        "\n",
        "X[:5], y[:5]\n"
      ]
    },
    {
      "cell_type": "code",
      "execution_count": 159,
      "metadata": {
        "colab": {
          "base_uri": "https://localhost:8080/"
        },
        "id": "uxov7Xp94NRt",
        "outputId": "fddaf22f-ea09-463f-cbef-42ae33412965"
      },
      "outputs": [
        {
          "output_type": "execute_result",
          "data": {
            "text/plain": [
              "(torch.Tensor, torch.float32, torch.float32)"
            ]
          },
          "metadata": {},
          "execution_count": 159
        }
      ],
      "source": [
        "type(X), X.dtype, y.dtype"
      ]
    },
    {
      "cell_type": "code",
      "execution_count": 160,
      "metadata": {
        "colab": {
          "base_uri": "https://localhost:8080/"
        },
        "id": "0vyRX9WC9QuG",
        "outputId": "4937eeb6-5d77-4cde-a569-2d71ef1e0b13"
      },
      "outputs": [
        {
          "output_type": "execute_result",
          "data": {
            "text/plain": [
              "<torch._C.Generator at 0x7ff7841f7b70>"
            ]
          },
          "metadata": {},
          "execution_count": 160
        }
      ],
      "source": [
        "torch.manual_seed(42)"
      ]
    },
    {
      "cell_type": "code",
      "execution_count": 161,
      "metadata": {
        "id": "o7AneQZm5QRn"
      },
      "outputs": [],
      "source": [
        "# split data into training and test set \n",
        "from sklearn.model_selection import train_test_split\n",
        "\n",
        "X_train, X_test, y_train, y_test = train_test_split(X,                 # features, then label, then test size and random seed\n",
        "                                                    y,\n",
        "                                                    test_size= 0.2,\n",
        "                                                    random_state= 42)"
      ]
    },
    {
      "cell_type": "code",
      "execution_count": 162,
      "metadata": {
        "colab": {
          "base_uri": "https://localhost:8080/"
        },
        "id": "U4_atmTa9bB6",
        "outputId": "14d99605-dfb9-458b-dd30-c05313908f80"
      },
      "outputs": [
        {
          "output_type": "execute_result",
          "data": {
            "text/plain": [
              "(800, 800, 200, 200)"
            ]
          },
          "metadata": {},
          "execution_count": 162
        }
      ],
      "source": [
        "len(X_train), len(y_train), len(X_test), len(y_test)"
      ]
    },
    {
      "cell_type": "markdown",
      "metadata": {
        "id": "8S_8zNKh9koJ"
      },
      "source": [
        "## 2. Building a model \n",
        "\n",
        "Let's build a model to classify our blue and red dots \n",
        "\n",
        "To do so, we want to: \n",
        "1. Setup device agnostic code so our code will run on an accelerator (gpu) if there \n",
        "2. Construct a model ( by subclassing `nn.Module` )\n",
        "3. Define loss function and optimizer \n",
        "4. Creat train and test loop \n"
      ]
    },
    {
      "cell_type": "code",
      "execution_count": 163,
      "metadata": {
        "colab": {
          "base_uri": "https://localhost:8080/",
          "height": 35
        },
        "id": "TC_nuuxEQ53N",
        "outputId": "39ceabf4-c5c4-44a5-96e5-d3dec68ed045"
      },
      "outputs": [
        {
          "output_type": "execute_result",
          "data": {
            "text/plain": [
              "'cuda'"
            ],
            "application/vnd.google.colaboratory.intrinsic+json": {
              "type": "string"
            }
          },
          "metadata": {},
          "execution_count": 163
        }
      ],
      "source": [
        "# import pytorch and nn\n",
        "import torch \n",
        "from torch import nn \n",
        "\n",
        "# make device agnostic code \n",
        "device = \"cuda\" if torch.cuda.is_available() else \"cpu\"\n",
        "device "
      ]
    },
    {
      "cell_type": "code",
      "execution_count": 164,
      "metadata": {
        "colab": {
          "base_uri": "https://localhost:8080/"
        },
        "id": "Leb6GfuITQ4G",
        "outputId": "47472dde-a7ac-47bb-fb75-6a18d7f6cf8b"
      },
      "outputs": [
        {
          "output_type": "execute_result",
          "data": {
            "text/plain": [
              "tensor([[ 0.6579, -0.4651],\n",
              "        [ 0.6319, -0.7347],\n",
              "        [-1.0086, -0.1240],\n",
              "        ...,\n",
              "        [ 0.0157, -1.0300],\n",
              "        [ 1.0110,  0.1680],\n",
              "        [ 0.5578, -0.5709]])"
            ]
          },
          "metadata": {},
          "execution_count": 164
        }
      ],
      "source": [
        "X_train "
      ]
    },
    {
      "cell_type": "markdown",
      "metadata": {
        "id": "aDZstkCcUdWC"
      },
      "source": [
        "Now we've setup device agnostic code, let's create a model that:\n",
        "\n",
        "1. Subclass `nn.Module` (almost all models in pytorch subclass `nn.module`)\n",
        "2. Create 2 `nn.Linear()` layers that are capable of handling the shape of our data \n",
        "3. Define a `forward()` method that outlines the forward pass ( or forward comutation) of the model\n",
        "4. Instantiate an instance of our model class and send it to the target `device` "
      ]
    },
    {
      "cell_type": "code",
      "execution_count": 165,
      "metadata": {
        "colab": {
          "base_uri": "https://localhost:8080/"
        },
        "id": "q_vRrZpc6MB7",
        "outputId": "86af6cba-040e-4c70-bba4-bc0efc89bd3b"
      },
      "outputs": [
        {
          "output_type": "execute_result",
          "data": {
            "text/plain": [
              "torch.Size([800, 2])"
            ]
          },
          "metadata": {},
          "execution_count": 165
        }
      ],
      "source": [
        "X_train.shape"
      ]
    },
    {
      "cell_type": "code",
      "execution_count": 166,
      "metadata": {
        "colab": {
          "base_uri": "https://localhost:8080/"
        },
        "id": "tNgoFQWc6mcD",
        "outputId": "d2f34a61-ce3f-4390-adaf-173c7e7722a6"
      },
      "outputs": [
        {
          "output_type": "execute_result",
          "data": {
            "text/plain": [
              "(torch.Size([800]), tensor([1., 0., 0., 0., 1.]))"
            ]
          },
          "metadata": {},
          "execution_count": 166
        }
      ],
      "source": [
        "y_train.shape, y_train[: 5]"
      ]
    },
    {
      "cell_type": "code",
      "execution_count": 167,
      "metadata": {
        "colab": {
          "base_uri": "https://localhost:8080/"
        },
        "id": "gix5RzRm1Xeu",
        "outputId": "f28cb35a-fb26-4f3e-9b88-780ce6e5338d"
      },
      "outputs": [
        {
          "output_type": "execute_result",
          "data": {
            "text/plain": [
              "CircleModelV0(\n",
              "  (layer_1): Linear(in_features=2, out_features=5, bias=True)\n",
              "  (layer_2): Linear(in_features=5, out_features=1, bias=True)\n",
              ")"
            ]
          },
          "metadata": {},
          "execution_count": 167
        }
      ],
      "source": [
        "from sklearn import datasets\n",
        "# 1. construct a model that subclasses nn.Module\n",
        "class CircleModelV0(nn.Module):\n",
        "  def __init__(self):\n",
        "    super().__init__()\n",
        "    # 2. Create 2 nn.Linear layers\n",
        "    self.layer_1 = nn.Linear(in_features=2, out_features=5) # takes in features as 2 cause there is 2 features means x1 and x2. and upscales to 5 features\n",
        "    self.layer_2 = nn.Linear(in_features=5, out_features=1) # takes in 5 features from previous layer and output a single feature ( same as shape y)\n",
        "  # define a forward() method that outlines the forward pass \n",
        "  def forward(self,x):\n",
        "    return self.layer_2(self.layer_1(x)) # x goes to layer1 and output of layer 1 goes to layer 2 -> output\n",
        "\n",
        "# 4. model class and send it to target device \n",
        "torch.manual_seed(42)\n",
        "model_0 = CircleModelV0().to(device)\n",
        "model_0\n",
        "\n"
      ]
    },
    {
      "cell_type": "code",
      "execution_count": 168,
      "metadata": {
        "colab": {
          "base_uri": "https://localhost:8080/",
          "height": 35
        },
        "id": "2L4pIwCR9w1B",
        "outputId": "f255dbe9-cb91-46bf-ab00-09250b2656c5"
      },
      "outputs": [
        {
          "output_type": "execute_result",
          "data": {
            "text/plain": [
              "'cuda'"
            ],
            "application/vnd.google.colaboratory.intrinsic+json": {
              "type": "string"
            }
          },
          "metadata": {},
          "execution_count": 168
        }
      ],
      "source": [
        "device "
      ]
    },
    {
      "cell_type": "code",
      "execution_count": 169,
      "metadata": {
        "colab": {
          "base_uri": "https://localhost:8080/"
        },
        "id": "Smq_RByO-PJ-",
        "outputId": "1be04c04-ecb8-431a-816d-afbe224e81c6"
      },
      "outputs": [
        {
          "output_type": "execute_result",
          "data": {
            "text/plain": [
              "device(type='cuda', index=0)"
            ]
          },
          "metadata": {},
          "execution_count": 169
        }
      ],
      "source": [
        "next(model_0.parameters()).device"
      ]
    },
    {
      "cell_type": "markdown",
      "metadata": {
        "id": "l-Fp5qjS-R58"
      },
      "source": [
        "### Visualization of the layer \n",
        "\n",
        "tool = https://playground.tensorflow.org/#activation=linear&batchSize=10&dataset=circle&regDataset=reg-plane&learningRate=0.01&regularizationRate=0&noise=0&networkShape=5&seed=0.21728&showTestData=false&discretize=false&percTrainData=50&x=true&y=true&xTimesY=false&xSquared=false&ySquared=false&cosX=false&sinX=false&cosY=false&sinY=false&collectStats=false&problem=classification&initZero=false&hideText=false\n",
        "\n",
        "Another tool for paint - https://www.figma.com/file/fbKSBx7pANe4BfMkG8OTlf/test-Network-1?node-id=0-1&t=sluglkM8pPhXvEPL-0"
      ]
    },
    {
      "cell_type": "code",
      "execution_count": 170,
      "metadata": {
        "colab": {
          "base_uri": "https://localhost:8080/"
        },
        "id": "wX0Kymi6LprY",
        "outputId": "53c7c97c-ac9b-49ca-def2-a1642bc28859"
      },
      "outputs": [
        {
          "output_type": "execute_result",
          "data": {
            "text/plain": [
              "Sequential(\n",
              "  (0): Linear(in_features=2, out_features=5, bias=True)\n",
              "  (1): Linear(in_features=5, out_features=1, bias=True)\n",
              ")"
            ]
          },
          "metadata": {},
          "execution_count": 170
        }
      ],
      "source": [
        "# Let's replicate the model above using nn.Sequential()\n",
        "model_0 = nn.Sequential(\n",
        "    nn.Linear(in_features=2, out_features=5),\n",
        "    nn.Linear(in_features=5, out_features=1)).to(device)\n",
        "\n",
        "model_0"
      ]
    },
    {
      "cell_type": "markdown",
      "metadata": {
        "id": "ap8V139HSJyx"
      },
      "source": [
        "Here we can use nn.Module subclass above what is required to sove more difficult case. But for easy and normal task, it is good to use nn.Sequential."
      ]
    },
    {
      "cell_type": "code",
      "execution_count": 171,
      "metadata": {
        "colab": {
          "base_uri": "https://localhost:8080/"
        },
        "id": "8QbMxzMFR7iK",
        "outputId": "066a18bb-2ed6-4c4c-95f4-94db3f2ad298"
      },
      "outputs": [
        {
          "output_type": "execute_result",
          "data": {
            "text/plain": [
              "OrderedDict([('0.weight', tensor([[-0.0829, -0.2872],\n",
              "                      [ 0.4691, -0.5582],\n",
              "                      [-0.3260, -0.1997],\n",
              "                      [-0.4252,  0.0667],\n",
              "                      [-0.6984,  0.6386]], device='cuda:0')),\n",
              "             ('0.bias',\n",
              "              tensor([-0.6007,  0.5459,  0.1177, -0.2296,  0.4370], device='cuda:0')),\n",
              "             ('1.weight',\n",
              "              tensor([[ 0.0697,  0.3613,  0.0489, -0.1410,  0.1202]], device='cuda:0')),\n",
              "             ('1.bias', tensor([-0.1213], device='cuda:0'))])"
            ]
          },
          "metadata": {},
          "execution_count": 171
        }
      ],
      "source": [
        "model_0.state_dict() # here weight = in_features* out_features. bias = out_features"
      ]
    },
    {
      "cell_type": "code",
      "execution_count": 172,
      "metadata": {
        "colab": {
          "base_uri": "https://localhost:8080/"
        },
        "id": "aD0Id8mjSws9",
        "outputId": "1fa47c5b-72bb-4b23-f464-c67dd54ae7c7"
      },
      "outputs": [
        {
          "output_type": "execute_result",
          "data": {
            "text/plain": [
              "(200, 200, torch.Size([200, 1]), torch.Size([200, 2]))"
            ]
          },
          "metadata": {},
          "execution_count": 172
        }
      ],
      "source": [
        "# Make predictions \n",
        "with torch.inference_mode():\n",
        "  untrained_preds = model_0(X_test.to(device))\n",
        "\n",
        "len(X_test), len(untrained_preds), untrained_preds.shape, X_test.shape"
      ]
    },
    {
      "cell_type": "code",
      "execution_count": 173,
      "metadata": {
        "colab": {
          "base_uri": "https://localhost:8080/"
        },
        "id": "v1aE1TmOX0h1",
        "outputId": "82c1f50c-d877-4708-9abf-8f0b6001814b"
      },
      "outputs": [
        {
          "output_type": "execute_result",
          "data": {
            "text/plain": [
              "(tensor([[-0.0338],\n",
              "         [-0.0309],\n",
              "         [ 0.0894],\n",
              "         [-0.0692],\n",
              "         [ 0.2967],\n",
              "         [ 0.2968],\n",
              "         [ 0.1405],\n",
              "         [ 0.2178],\n",
              "         [ 0.0805],\n",
              "         [-0.0284]], device='cuda:0'),\n",
              " tensor([1., 0., 1., 0., 1., 1., 0., 0., 1., 0.]))"
            ]
          },
          "metadata": {},
          "execution_count": 173
        }
      ],
      "source": [
        "untrained_preds[:10], y_test[:10]"
      ]
    },
    {
      "cell_type": "markdown",
      "metadata": {
        "id": "h7c9LqLvYwl4"
      },
      "source": [
        "### Setup loss function and optimizer \n",
        "\n",
        "Which loss function and optimizer we should use for classification problem?\n",
        "\n",
        "Again.... this is problem Specific.\n",
        "\n",
        "For example for regression you might want MAE and MSE.\n",
        "\n",
        "For classification you might want binary cross entropy or categorical cross entropy ( cross entropy)\n",
        "\n",
        "Binary cross entropy resource: https://towardsdatascience.com/understanding-binary-cross-entropy-log-loss-a-visual-explanation-a3ac6025181a\n",
        "\n",
        "As a reminder , the loss function measures how *wrong* your models predictions are.\n",
        "\n",
        "Lossfunction/optimizer: https://www.learnpytorch.io/02_pytorch_classification/#21-setup-loss-function-and-optimizer\n",
        "\n",
        "And for optimizers, two of the most common and useful are sgd and adam, however pytorch has manybuilt-in options.\n",
        "\n",
        "Loss function- https://pytorch.org/docs/stable/nn.html#loss-functions\n",
        "\n",
        "Optimizer- https://pytorch.org/docs/stable/optim.html?highlight=optimizer#torch.optim.Optimizer\n",
        "\n",
        "For the loss function we're going to use `torch.nn.BCEWithLogitsLoss()` \n",
        "\n",
        "logit- https://stackoverflow.com/questions/41455101/what-is-the-meaning-of-the-word-logits-in-tensorflow"
      ]
    },
    {
      "cell_type": "code",
      "execution_count": 174,
      "metadata": {
        "id": "_vd87IgCPw3f"
      },
      "outputs": [],
      "source": [
        "# Setup the loss function \n",
        "# loss_fn = nn.BCELoss() # BCELoss = reuires input to have gone through the sigmoid activation function prior to input to BCELoss\n",
        "loss_fn = nn.BCEWithLogitsLoss()\n",
        " # BCEWithLogitsLoss = this has sigmoid activation built in. binary classification needs sigmoid activation and mulyi class classification needs softmax activation \n",
        "\n",
        "# Setup an optimizer\n",
        "optimizer = torch.optim.SGD(params = model_0.parameters(),\n",
        "                            lr= 0.1) "
      ]
    },
    {
      "cell_type": "code",
      "execution_count": 175,
      "metadata": {
        "colab": {
          "base_uri": "https://localhost:8080/"
        },
        "id": "ugkOnVUBGpEv",
        "outputId": "8fc47fe8-87ec-47b0-c53e-bb24e5becf37"
      },
      "outputs": [
        {
          "output_type": "execute_result",
          "data": {
            "text/plain": [
              "OrderedDict([('0.weight', tensor([[-0.0829, -0.2872],\n",
              "                      [ 0.4691, -0.5582],\n",
              "                      [-0.3260, -0.1997],\n",
              "                      [-0.4252,  0.0667],\n",
              "                      [-0.6984,  0.6386]], device='cuda:0')),\n",
              "             ('0.bias',\n",
              "              tensor([-0.6007,  0.5459,  0.1177, -0.2296,  0.4370], device='cuda:0')),\n",
              "             ('1.weight',\n",
              "              tensor([[ 0.0697,  0.3613,  0.0489, -0.1410,  0.1202]], device='cuda:0')),\n",
              "             ('1.bias', tensor([-0.1213], device='cuda:0'))])"
            ]
          },
          "metadata": {},
          "execution_count": 175
        }
      ],
      "source": [
        "model_0.state_dict()"
      ]
    },
    {
      "cell_type": "code",
      "execution_count": 176,
      "metadata": {
        "id": "55wru28lGzj4"
      },
      "outputs": [],
      "source": [
        "# Calculate accuracy - out of 100 examples, what percentage does our model get right?\n",
        "def accuracy_fn(y_true, y_pred):\n",
        "  correct = torch.eq(y_true, y_pred).sum().item() # sum all the item\n",
        "  acc = (correct/len(y_pred)) * 100\n",
        "  return acc\n",
        "\n"
      ]
    },
    {
      "cell_type": "code",
      "execution_count": 177,
      "metadata": {
        "colab": {
          "base_uri": "https://localhost:8080/"
        },
        "id": "ab17zV6Jwelu",
        "outputId": "393c20cd-1a98-4971-a075-6047e70228fd"
      },
      "outputs": [
        {
          "output_type": "execute_result",
          "data": {
            "text/plain": [
              "100.0"
            ]
          },
          "metadata": {},
          "execution_count": 177
        }
      ],
      "source": [
        "accuracy = accuracy_fn(y_true = y_train,\n",
        "                       y_pred = y_train)\n",
        "accuracy"
      ]
    },
    {
      "cell_type": "markdown",
      "metadata": {
        "id": "wECtX7Q0L7qX"
      },
      "source": [
        "## Train a model \n",
        "\n",
        "A couple of things we need in a training loop:\n",
        "\n",
        "0- Loop through the data ( random weights and bias)\n",
        "\n",
        "1- Forward pass ( this involves data moving through our model's forward() functions)to make predictions on data - also called forward propagation\n",
        "\n",
        "2- calculate the loss ( compare forward pass predictions to ground truth labels)\n",
        "\n",
        "3- optimize zero grad\n",
        "\n",
        "4- loss backward- moves vackward through the network to calculate the gradients of each of the parameters of our model with respect to the loss.( back propagation)\n",
        "\n",
        "5- Optimizer step -use the optimizer to adjust our model's parameters to try and improve the loss ( Gradient descent)"
      ]
    },
    {
      "cell_type": "markdown",
      "metadata": {
        "id": "jsowitAbMFrC"
      },
      "source": [
        "### 3.1 Going from raw logits -> prediction probabilities -> prediction labels \n",
        "\n",
        "Our model outputs are going to be raw **Logits**\n",
        "\n",
        "We can convert these **logits** into prediction probabilities by passing them to some kind of activation function ( e.g. sigmoid for binary classification and softmax for multiclass classification).\n",
        "\n",
        "Then we can convert our model's prediction probabilities to **Prediction labels** by either rounding them for binary classification or taking the `argmax()` for multiclass classification "
      ]
    },
    {
      "cell_type": "code",
      "execution_count": 178,
      "metadata": {
        "colab": {
          "base_uri": "https://localhost:8080/"
        },
        "id": "V0JXro2jNLYh",
        "outputId": "a591c93d-3f95-446d-f0b0-221cede7281c"
      },
      "outputs": [
        {
          "output_type": "execute_result",
          "data": {
            "text/plain": [
              "tensor([[-0.0338],\n",
              "        [-0.0309],\n",
              "        [ 0.0894],\n",
              "        [-0.0692],\n",
              "        [ 0.2967]], device='cuda:0')"
            ]
          },
          "metadata": {},
          "execution_count": 178
        }
      ],
      "source": [
        "# view the first 5 outputs of the forward pass on the test data \n",
        "model_0.eval()\n",
        "with torch.inference_mode():\n",
        "  y_logits = model_0(X_test.to(device))[:5] \n",
        "y_logits\n",
        "# means the logits are raw outputs of our model without being passed to any activation function"
      ]
    },
    {
      "cell_type": "code",
      "execution_count": 179,
      "metadata": {
        "colab": {
          "base_uri": "https://localhost:8080/"
        },
        "id": "W3B_OrhdV0CO",
        "outputId": "2e1e5432-7ec0-4e86-aa60-c4135905fab7"
      },
      "outputs": [
        {
          "output_type": "execute_result",
          "data": {
            "text/plain": [
              "tensor([1., 0., 1., 0., 1.])"
            ]
          },
          "metadata": {},
          "execution_count": 179
        }
      ],
      "source": [
        "y_test[:5]"
      ]
    },
    {
      "cell_type": "code",
      "execution_count": 180,
      "metadata": {
        "colab": {
          "base_uri": "https://localhost:8080/"
        },
        "id": "3CJJtHLLXJy8",
        "outputId": "25496e68-a98c-43dc-8552-62191ba589a6"
      },
      "outputs": [
        {
          "output_type": "execute_result",
          "data": {
            "text/plain": [
              "tensor([[0.4916],\n",
              "        [0.4923],\n",
              "        [0.5223],\n",
              "        [0.4827],\n",
              "        [0.5736]], device='cuda:0')"
            ]
          },
          "metadata": {},
          "execution_count": 180
        }
      ],
      "source": [
        "# use the sigmoidactivation functions on our model logits to turn them into prediction probabilities\n",
        "y_pred_probs = torch.sigmoid(y_logits)\n",
        "y_pred_probs"
      ]
    },
    {
      "cell_type": "markdown",
      "metadata": {
        "id": "NEHb5C-sfert"
      },
      "source": [
        "For our prediction probability values, we need t perform a range-style rounding on them:\n",
        "* `y_pred_probs` >= .5,`y=1` (class 1)\n",
        "* `y_pred_probs` < .5, `y=0` (class 0)\n",
        "\n",
        "we have to use activation function to turn on prediction probabilities"
      ]
    },
    {
      "cell_type": "code",
      "execution_count": 181,
      "metadata": {
        "colab": {
          "base_uri": "https://localhost:8080/"
        },
        "id": "blEHicQCfX0g",
        "outputId": "a7e45cd0-89de-472a-abc1-1f38f4953a43"
      },
      "outputs": [
        {
          "output_type": "stream",
          "name": "stdout",
          "text": [
            "tensor([True, True, True, True, True], device='cuda:0')\n"
          ]
        },
        {
          "output_type": "execute_result",
          "data": {
            "text/plain": [
              "tensor([0., 0., 1., 0., 1.], device='cuda:0')"
            ]
          },
          "metadata": {},
          "execution_count": 181
        }
      ],
      "source": [
        "# find the predicted labels \n",
        "y_preds = torch.round(y_pred_probs)\n",
        "\n",
        "# In full (raw logits -> prediction probabilities -> prediction labels)\n",
        "model_0.eval()\n",
        "with torch.inference_mode():\n",
        "  y_pred_labels = torch.round(torch.sigmoid(model_0(X_test.to(device))))[:5]\n",
        "\n",
        "# check for equality\n",
        "print(torch.eq(y_preds.squeeze(), y_pred_labels.squeeze()))\n",
        "y_preds.squeeze()"
      ]
    },
    {
      "cell_type": "markdown",
      "metadata": {
        "id": "Guh0THfyfbUf"
      },
      "source": [
        "### 3.2 Building a training and testing loop "
      ]
    },
    {
      "cell_type": "code",
      "execution_count": 182,
      "metadata": {
        "colab": {
          "base_uri": "https://localhost:8080/"
        },
        "id": "7nSVul9ToP13",
        "outputId": "58851037-f756-440f-9f3e-b55e066588ce"
      },
      "outputs": [
        {
          "output_type": "stream",
          "name": "stdout",
          "text": [
            "Epoch: 0 | Loss: 0.69796, Acc:  51.88%  | Test loss:  0.69440, Test acc:  58.00%\n",
            "Epoch: 10 | Loss: 0.69590, Acc:  51.25%  | Test loss:  0.69305, Test acc:  53.00%\n",
            "Epoch: 20 | Loss: 0.69490, Acc:  51.62%  | Test loss:  0.69254, Test acc:  49.50%\n",
            "Epoch: 30 | Loss: 0.69435, Acc:  51.12%  | Test loss:  0.69236, Test acc:  49.50%\n",
            "Epoch: 40 | Loss: 0.69401, Acc:  50.88%  | Test loss:  0.69232, Test acc:  51.00%\n",
            "Epoch: 50 | Loss: 0.69378, Acc:  50.25%  | Test loss:  0.69234, Test acc:  50.00%\n",
            "Epoch: 60 | Loss: 0.69362, Acc:  50.00%  | Test loss:  0.69239, Test acc:  51.50%\n",
            "Epoch: 70 | Loss: 0.69351, Acc:  50.25%  | Test loss:  0.69246, Test acc:  51.00%\n",
            "Epoch: 80 | Loss: 0.69342, Acc:  49.88%  | Test loss:  0.69254, Test acc:  50.00%\n",
            "Epoch: 90 | Loss: 0.69336, Acc:  49.88%  | Test loss:  0.69262, Test acc:  53.00%\n"
          ]
        }
      ],
      "source": [
        "torch.manual_seed(42)\n",
        "torch.cuda.manual_seed(42) \n",
        "\n",
        "# set the number of epochs\n",
        "epochs = 100\n",
        "\n",
        "# Put data into the target device \n",
        "X_train, y_train = X_train.to(device), y_train.to(device)\n",
        "X_test, y_test = X_test.to(device), y_test.to(device)\n",
        "\n",
        "# Building training and evaluation loop \n",
        "for epoch in range(epochs):\n",
        "  ### Training \n",
        "  model_0.train()\n",
        "\n",
        "  # 1. Forward pass \n",
        "  y_logits = model_0(X_train).squeeze()\n",
        "  y_pred = torch.round(torch.sigmoid(y_logits)) # turn logits -> pred probs -> pred labels \n",
        "\n",
        "  # 2. loss loss/accuracy\n",
        "  loss= loss_fn(y_logits, # here we don't take y_pred because the loss_fn has built in sigmoid activation fn.\n",
        "                y_train)\n",
        "  acc = accuracy_fn(y_true= y_train,\n",
        "                    y_pred = y_pred)\n",
        "  \n",
        "  # 3. optimizer zero grad \n",
        "  optimizer.zero_grad()\n",
        "\n",
        "  # loss backward \n",
        "  loss.backward()\n",
        "\n",
        "  # Optimize step ( gradient descent)\n",
        "  optimizer.step()\n",
        "\n",
        "  ### Testing \n",
        "  model_0.eval()\n",
        "  with torch.inference_mode():\n",
        "    # 1.Forward pass \n",
        "    test_logits = model_0(X_test).squeeze()\n",
        "    test_preds = torch.round(torch.sigmoid(test_logits))\n",
        "    \n",
        "\n",
        "    # Calculate loss/ accuracy \n",
        "    test_loss = loss_fn(test_logits, y_test)\n",
        "    test_acc = accuracy_fn(y_true = y_test,\n",
        "                           y_pred = test_preds)\n",
        "    \n",
        "  # print out whats happening \n",
        "  if epoch % 10== 0:\n",
        "    print(f\"Epoch: {epoch} | Loss: {loss:.5f}, Acc: {acc: .2f}%  | Test loss: {test_loss: .5f}, Test acc: {test_acc: .2f}%\")\n",
        "    # print(model_0.state_dict())\n",
        "\n"
      ]
    },
    {
      "cell_type": "markdown",
      "metadata": {
        "id": "7ZPG3X6lgeR2"
      },
      "source": [
        "Here we can see that the accuracy is near 50%. its not good then.\n"
      ]
    },
    {
      "cell_type": "markdown",
      "metadata": {
        "id": "F20Q662eC8tq"
      },
      "source": [
        "## 4. Make predictions and evaluate the model \n",
        "\n",
        "From the metrics it looks like our model isn't learning anything...\n",
        "\n",
        "So to inspect it lets make some predictions and make them visuall\n",
        "\n",
        "in other words, visualize, visualize, visualize..\n",
        "\n",
        "To do so, we're going to import a function called `plot_decision_boundary`.  Collected- https://github.com/mrdbourke/pytorch-deep-learning/blob/main/helper_functions.py\n",
        "\n",
        "Resources- https://madewithml.com/courses/foundations/neural-networks/"
      ]
    },
    {
      "cell_type": "code",
      "execution_count": 183,
      "metadata": {
        "colab": {
          "base_uri": "https://localhost:8080/"
        },
        "id": "sDOA9neTD-iJ",
        "outputId": "1a9c1e39-9b30-4622-b844-32a8641580e6"
      },
      "outputs": [
        {
          "output_type": "stream",
          "name": "stdout",
          "text": [
            " helper_functions.py already exists, skipping download\n"
          ]
        }
      ],
      "source": [
        "import requests \n",
        "from pathlib import Path\n",
        "\n",
        "# Download helper functions from learn pytorch repo (if it's not already downloaded)\n",
        "if Path(\"helper_functions.py\").is_file():\n",
        "  print(\" helper_functions.py already exists, skipping download\")\n",
        "else:\n",
        "  print(\"download helper_fuctions.py\")\n",
        "  request= requests.get(\"https://raw.githubusercontent.com/mrdbourke/pytorch-deep-learning/main/helper_functions.py\")\n",
        "  with open(\"helper_functions.py\", \"wb\") as f:\n",
        "    f.write(request.content)\n",
        "from helper_functions import plot_predictions, plot_decision_boundary"
      ]
    },
    {
      "cell_type": "code",
      "execution_count": 184,
      "metadata": {
        "colab": {
          "base_uri": "https://localhost:8080/",
          "height": 390
        },
        "id": "kc1bVRWmjRCM",
        "outputId": "21ba9131-9ceb-40e1-fa38-3eac54aef70d"
      },
      "outputs": [
        {
          "output_type": "display_data",
          "data": {
            "text/plain": [
              "<Figure size 864x432 with 2 Axes>"
            ],
            "image/png": "[encoded data removed]"
          },
          "metadata": {
            "needs_background": "light"
          }
        }
      ],
      "source": [
        "# Plot decision boundary of the model \n",
        "plt.figure(figsize= (12,6))\n",
        "plt.subplot(1,2,1) # number of rows, number of columns, number of index\n",
        "plt.title(\"Train\")\n",
        "plot_decision_boundary(model_0, X_train, y_train)\n",
        "plt.subplot(1,2,2)\n",
        "plt.title(\"Test\")\n",
        "plot_decision_boundary(model_0, X_test, y_test )"
      ]
    },
    {
      "cell_type": "markdown",
      "metadata": {
        "id": "70F2a55TpChr"
      },
      "source": [
        "## Improving a model (from a model perspective)\n",
        "\n",
        "* Add more layers - give the model more chances to learn about patterns in data \n",
        "* Add more hidden units - go from 5 hidden units to 10 hidden units \n",
        "* Fit for longer - means more epochs \n",
        "* changing the activation functions \n",
        "* change the learning rate \n",
        "* change the optimization function \n",
        "\n",
        "These options are all from a model's perspective because they deal directly with the model, rather than the data.\n",
        "\n",
        "And because these options are all values we (as a machine learning engineers and data scientists) can change, they are referred as **Hyperparameters**. the options above are hyperparameters\n",
        "\n",
        "Let's try and improve our model by: \n",
        "* adding more hidden units: 5 -> 10\n",
        "* Increase the number of layers: 2 -> 3\n",
        "* increase the number of epochs: 100 -> 1000 \n",
        "\n",
        "This is called improve through experimentation. \n",
        "\n",
        "But we should change one hyperparameters at once. But here we're changing 3 hyperparameters at the same time for just learning. "
      ]
    },
    {
      "cell_type": "code",
      "execution_count": 185,
      "metadata": {
        "colab": {
          "base_uri": "https://localhost:8080/"
        },
        "id": "IE8P99MN3epT",
        "outputId": "cdb146c9-ab09-4528-f380-e28d03b20463"
      },
      "outputs": [
        {
          "output_type": "execute_result",
          "data": {
            "text/plain": [
              "CircleModelV1(\n",
              "  (layer_1): Linear(in_features=2, out_features=10, bias=True)\n",
              "  (layer_2): Linear(in_features=10, out_features=10, bias=True)\n",
              "  (layer_3): Linear(in_features=10, out_features=1, bias=True)\n",
              ")"
            ]
          },
          "metadata": {},
          "execution_count": 185
        }
      ],
      "source": [
        "class CircleModelV1(nn.Module):\n",
        "  def __init__(self):\n",
        "    super().__init__()\n",
        "## nn.Sequential also a version of nn.Module\n",
        "    self.layer_1 = nn.Linear(in_features=2, out_features = 10)\n",
        "    self.layer_2 = nn.Linear(in_features=10, out_features = 10)\n",
        "    self.layer_3 = nn.Linear(in_features=10, out_features=1)\n",
        "\n",
        "  def forward(self,x):\n",
        "    #z= self.layer_1(x)\n",
        "    #z= self.layer_2(z) # here z overwrite the previous z\n",
        "    #z= self.layer_3(z)\n",
        "    return self.layer_3(self.layer_2(self.layer_1(x))) # this way of writing qperations leverages speeds ups where possible behind the scene \n",
        "\n",
        "torch.manual_seed(42)\n",
        "model_1 = CircleModelV1().to(device)\n",
        "model_1\n",
        "\n"
      ]
    },
    {
      "cell_type": "code",
      "execution_count": 186,
      "metadata": {
        "colab": {
          "base_uri": "https://localhost:8080/"
        },
        "id": "KYfI423iWHSk",
        "outputId": "dba14f26-84f8-43ae-bc87-950b860d2be6"
      },
      "outputs": [
        {
          "output_type": "execute_result",
          "data": {
            "text/plain": [
              "OrderedDict([('0.weight', tensor([[-0.0849, -0.2762],\n",
              "                      [ 0.4610, -0.5187],\n",
              "                      [-0.3271, -0.1947],\n",
              "                      [-0.4220,  0.0507],\n",
              "                      [-0.7016,  0.6600]])),\n",
              "             ('0.bias', tensor([-0.6060,  0.5246,  0.1149, -0.2211,  0.4275])),\n",
              "             ('1.weight',\n",
              "              tensor([[ 0.0741,  0.2406,  0.0222, -0.1075,  0.1965]])),\n",
              "             ('1.bias', tensor([-0.1888]))])"
            ]
          },
          "metadata": {},
          "execution_count": 186
        }
      ],
      "source": [
        "model_0.state_dict()"
      ]
    },
    {
      "cell_type": "code",
      "execution_count": 187,
      "metadata": {
        "colab": {
          "base_uri": "https://localhost:8080/"
        },
        "id": "43vtUkV8W_8h",
        "outputId": "ade5c882-5595-4567-e2df-8d345b9bae8e"
      },
      "outputs": [
        {
          "output_type": "execute_result",
          "data": {
            "text/plain": [
              "OrderedDict([('layer_1.weight', tensor([[ 0.5406,  0.5869],\n",
              "                      [-0.1657,  0.6496],\n",
              "                      [-0.1549,  0.1427],\n",
              "                      [-0.3443,  0.4153],\n",
              "                      [ 0.6233, -0.5188],\n",
              "                      [ 0.6146,  0.1323],\n",
              "                      [ 0.5224,  0.0958],\n",
              "                      [ 0.3410, -0.0998],\n",
              "                      [ 0.5451,  0.1045],\n",
              "                      [-0.3301,  0.1802]], device='cuda:0')),\n",
              "             ('layer_1.bias',\n",
              "              tensor([-0.3258, -0.0829, -0.2872,  0.4691, -0.5582, -0.3260, -0.1997, -0.4252,\n",
              "                       0.0667, -0.6984], device='cuda:0')),\n",
              "             ('layer_2.weight',\n",
              "              tensor([[ 0.2856, -0.2686,  0.2441,  0.0526, -0.1027,  0.1954,  0.0493,  0.2555,\n",
              "                        0.0346, -0.0997],\n",
              "                      [ 0.0850, -0.0858,  0.1331,  0.2823,  0.1828, -0.1382,  0.1825,  0.0566,\n",
              "                        0.1606, -0.1927],\n",
              "                      [-0.3130, -0.1222, -0.2426,  0.2595,  0.0911,  0.1310,  0.1000, -0.0055,\n",
              "                        0.2475, -0.2247],\n",
              "                      [ 0.0199, -0.2158,  0.0975, -0.1089,  0.0969, -0.0659,  0.2623, -0.1874,\n",
              "                       -0.1886, -0.1886],\n",
              "                      [ 0.2844,  0.1054,  0.3043, -0.2610, -0.3137, -0.2474, -0.2127,  0.1281,\n",
              "                        0.1132,  0.2628],\n",
              "                      [-0.1633, -0.2156,  0.1678, -0.1278,  0.1919, -0.0750,  0.1809, -0.2457,\n",
              "                       -0.1596,  0.0964],\n",
              "                      [ 0.0669, -0.0806,  0.1885,  0.2150, -0.2293, -0.1688,  0.2896, -0.1067,\n",
              "                       -0.1121, -0.3060],\n",
              "                      [-0.1811,  0.0790, -0.0417, -0.2295,  0.0074, -0.2160, -0.2683, -0.1741,\n",
              "                       -0.2768, -0.2014],\n",
              "                      [ 0.3161,  0.0597,  0.0974, -0.2949, -0.2077, -0.1053,  0.0494, -0.2783,\n",
              "                       -0.1363, -0.1893],\n",
              "                      [ 0.0009, -0.1177, -0.0219, -0.2143, -0.2171, -0.1845, -0.1082, -0.2496,\n",
              "                        0.2651, -0.0628]], device='cuda:0')),\n",
              "             ('layer_2.bias',\n",
              "              tensor([ 0.2721,  0.0985, -0.2678,  0.2188, -0.0870, -0.1212, -0.2625, -0.3144,\n",
              "                       0.0905, -0.0691], device='cuda:0')),\n",
              "             ('layer_3.weight',\n",
              "              tensor([[ 0.1231, -0.2595,  0.2348, -0.2321, -0.0546,  0.0661,  0.1633,  0.2553,\n",
              "                        0.2881, -0.2507]], device='cuda:0')),\n",
              "             ('layer_3.bias', tensor([0.0796], device='cuda:0'))])"
            ]
          },
          "metadata": {},
          "execution_count": 187
        }
      ],
      "source": [
        "model_1.state_dict()"
      ]
    },
    {
      "cell_type": "code",
      "execution_count": 188,
      "metadata": {
        "id": "5-_-O7bqXEsl"
      },
      "outputs": [],
      "source": [
        "# Create a loss function\n",
        "loss_fn = nn.BCEWithLogitsLoss()\n",
        "\n",
        "# Create an optimizer\n",
        "optimizer = torch.optim.SGD(params= model_1.parameters(),\n",
        "                             lr= 0.1)"
      ]
    },
    {
      "cell_type": "code",
      "execution_count": 189,
      "metadata": {
        "colab": {
          "base_uri": "https://localhost:8080/"
        },
        "id": "xZz5uKxKX17p",
        "outputId": "e9e0e2c8-8585-45d0-d212-17b0b115ba70"
      },
      "outputs": [
        {
          "output_type": "stream",
          "name": "stdout",
          "text": [
            "Epoch: 0 | Loss: 0.69396, Acc:  50.88%  | Test loss:  0.69261, Test acc:  51.00%\n",
            "Epoch: 100 | Loss: 0.69305, Acc:  50.38%  | Test loss:  0.69379, Test acc:  48.00%\n",
            "Epoch: 200 | Loss: 0.69299, Acc:  51.12%  | Test loss:  0.69437, Test acc:  46.00%\n",
            "Epoch: 300 | Loss: 0.69298, Acc:  51.62%  | Test loss:  0.69458, Test acc:  45.00%\n",
            "Epoch: 400 | Loss: 0.69298, Acc:  51.12%  | Test loss:  0.69465, Test acc:  46.00%\n",
            "Epoch: 500 | Loss: 0.69298, Acc:  51.00%  | Test loss:  0.69467, Test acc:  46.00%\n",
            "Epoch: 600 | Loss: 0.69298, Acc:  51.00%  | Test loss:  0.69468, Test acc:  46.00%\n",
            "Epoch: 700 | Loss: 0.69298, Acc:  51.00%  | Test loss:  0.69468, Test acc:  46.00%\n",
            "Epoch: 800 | Loss: 0.69298, Acc:  51.00%  | Test loss:  0.69468, Test acc:  46.00%\n",
            "Epoch: 900 | Loss: 0.69298, Acc:  51.00%  | Test loss:  0.69468, Test acc:  46.00%\n"
          ]
        }
      ],
      "source": [
        "# Write a training and evaluation loop for model_1\n",
        "torch.manual_seed(42)\n",
        "torch.cuda.manual_seed(42) \n",
        "\n",
        "# set the number of epochs\n",
        "epochs = 1000\n",
        "\n",
        "# Put data into the target device \n",
        "X_train, y_train = X_train.to(device), y_train.to(device)\n",
        "X_test, y_test = X_test.to(device), y_test.to(device)\n",
        "\n",
        "# Building training and evaluation loop \n",
        "for epoch in range(epochs):\n",
        "  ### Training \n",
        "  model_1.train()\n",
        "\n",
        "  # 1. Forward pass \n",
        "  y_logits = model_1(X_train).squeeze()\n",
        "  y_pred = torch.round(torch.sigmoid(y_logits)) # turn logits -> pred probs -> pred labels \n",
        "\n",
        "  # 2. loss loss/accuracy\n",
        "  loss= loss_fn(y_logits, # here we don't take y_pred because the loss_fn has built in sigmoid activation fn.\n",
        "                y_train)\n",
        "  acc = accuracy_fn(y_true= y_train,\n",
        "                    y_pred = y_pred)\n",
        "  \n",
        "  # 3. optimizer zero grad \n",
        "  optimizer.zero_grad()\n",
        "\n",
        "  # loss backward \n",
        "  loss.backward()\n",
        "\n",
        "  # Optimize step ( gradient descent)\n",
        "  optimizer.step()\n",
        "\n",
        "  ### Testing \n",
        "  model_1.eval()\n",
        "  with torch.inference_mode():\n",
        "    # 1.Forward pass \n",
        "    test_logits = model_1(X_test).squeeze()\n",
        "    test_preds = torch.round(torch.sigmoid(test_logits))\n",
        "    \n",
        "\n",
        "    # Calculate loss/ accuracy \n",
        "    test_loss = loss_fn(test_logits, y_test)\n",
        "    test_acc = accuracy_fn(y_true = y_test,\n",
        "                           y_pred = test_preds)\n",
        "    \n",
        "  # print out whats happening \n",
        "  if epoch % 100== 0:\n",
        "    print(f\"Epoch: {epoch} | Loss: {loss:.5f}, Acc: {acc: .2f}%  | Test loss: {test_loss: .5f}, Test acc: {test_acc: .2f}%\")\n",
        "    # print(model_0.state_dict())\n"
      ]
    },
    {
      "cell_type": "code",
      "execution_count": 190,
      "metadata": {
        "colab": {
          "base_uri": "https://localhost:8080/",
          "height": 390
        },
        "id": "dkbWlFCqZOXg",
        "outputId": "ebda53c8-7cbe-49ee-a0ca-12164add734f"
      },
      "outputs": [
        {
          "output_type": "display_data",
          "data": {
            "text/plain": [
              "<Figure size 864x432 with 2 Axes>"
            ],
            "image/png": "[encoded data removed]"
          },
          "metadata": {
            "needs_background": "light"
          }
        }
      ],
      "source": [
        "# plot decision boundary \n",
        "plt.figure(figsize= (12,6))\n",
        "plt.subplot(1,2,1) # number of rows, number of columns, number of index\n",
        "plt.title(\"Train\")\n",
        "plot_decision_boundary(model_1, X_train, y_train)\n",
        "plt.subplot(1,2,2)\n",
        "plt.title(\"Test\")\n",
        "plot_decision_boundary(model_1, X_test, y_test )"
      ]
    },
    {
      "cell_type": "markdown",
      "metadata": {
        "id": "-yk1U678a0EL"
      },
      "source": [
        "Here we can see that by changing the parameters the model is not learning. there is again kind of a linear line which can't seperate the blue and red dots"
      ]
    },
    {
      "cell_type": "markdown",
      "metadata": {
        "id": "_-FyxV3icrt4"
      },
      "source": [
        "### 5.1 Preparing data to see if our model can fit a straight line \n",
        "\n",
        "One way to troubleshoot to a larger problem is to test out a smaller problem "
      ]
    },
    {
      "cell_type": "code",
      "execution_count": 191,
      "metadata": {
        "colab": {
          "base_uri": "https://localhost:8080/"
        },
        "id": "E3BvD_OvmnDK",
        "outputId": "8f9702fa-4587-453d-8745-7b43937e97ed"
      },
      "outputs": [
        {
          "output_type": "execute_result",
          "data": {
            "text/plain": [
              "(100, tensor([[0.0000],\n",
              "         [0.0100],\n",
              "         [0.0200],\n",
              "         [0.0300],\n",
              "         [0.0400]]), 100, tensor([[0.3000],\n",
              "         [0.3070],\n",
              "         [0.3140],\n",
              "         [0.3210],\n",
              "         [0.3280]]))"
            ]
          },
          "metadata": {},
          "execution_count": 191
        }
      ],
      "source": [
        "# Create some data (same as notebook 01 means workflow)\n",
        "weight = .7\n",
        "bias = .3\n",
        "start = 0\n",
        "end = 1\n",
        "step = .01\n",
        "\n",
        "# Create some data \n",
        "X_regression = torch.arange(start, end, step).unsqueeze(dim=1)\n",
        "y_regression = weight * X_regression + bias\n",
        "\n",
        "len(X_regression), X_regression[:5], len(y_regression), y_regression[:5]"
      ]
    },
    {
      "cell_type": "code",
      "execution_count": 192,
      "metadata": {
        "id": "VbHNp9oapOn_"
      },
      "outputs": [],
      "source": [
        "# Create train and test split \n",
        "#from sklearn.model_selection import train_test_split\n",
        "#X_train_regression, X_test_regression, y_train_regression, y_test_regression = train_test_split(X_regression,\n",
        " #                                                                                               y_regression,\n",
        " #                                                                                               test_size = .2,\n",
        "  #                                                                                              random_state= 42)\n",
        "#len(X_train_regression), len(y_train_regression), len(X_test_regression), len(y_test_regression)\n",
        "#here it will not work. cause sklearn doesn't take the train and test data sequentially "
      ]
    },
    {
      "cell_type": "code",
      "execution_count": 193,
      "metadata": {
        "colab": {
          "base_uri": "https://localhost:8080/"
        },
        "id": "g6eTm2wX1ev6",
        "outputId": "be2a6a9e-117a-4c24-c000-0348bba14816"
      },
      "outputs": [
        {
          "output_type": "stream",
          "name": "stdout",
          "text": [
            "80\n"
          ]
        },
        {
          "output_type": "execute_result",
          "data": {
            "text/plain": [
              "(80, 80, 20, 20)"
            ]
          },
          "metadata": {},
          "execution_count": 193
        }
      ],
      "source": [
        "#Create a train/test split\n",
        "train_split = int(.8 * len(X_regression))\n",
        "print(train_split)\n",
        "X_train_regression, y_train_regression = X_regression[: train_split] , y_regression[: train_split]\n",
        "X_test_regression , y_test_regression = X_regression[train_split:] , y_regression[train_split:]\n",
        "len(X_train_regression), len(y_train_regression), len(X_test_regression), len(y_test_regression)"
      ]
    },
    {
      "cell_type": "code",
      "execution_count": 194,
      "metadata": {
        "colab": {
          "base_uri": "https://localhost:8080/",
          "height": 428
        },
        "id": "-fk79lDXvjNx",
        "outputId": "37cf843e-eeca-4e9f-f2d5-f9e363b9f256"
      },
      "outputs": [
        {
          "output_type": "display_data",
          "data": {
            "text/plain": [
              "<Figure size 720x504 with 1 Axes>"
            ],
            "image/png": "[encoded data removed]"
          },
          "metadata": {
            "needs_background": "light"
          }
        }
      ],
      "source": [
        "# Here above we call plot_prediction from the helper function \n",
        "plot_predictions(X_train_regression,\n",
        "                 y_train_regression, \n",
        "                 X_test_regression,\n",
        "                 y_test_regression);"
      ]
    },
    {
      "cell_type": "markdown",
      "metadata": {
        "id": "RbRjoDTO0TR7"
      },
      "source": [
        "### 5.2 Adjusting `model_1` to fit a straight line "
      ]
    },
    {
      "cell_type": "code",
      "execution_count": 195,
      "metadata": {
        "colab": {
          "base_uri": "https://localhost:8080/"
        },
        "id": "5ETh9UZ76BkK",
        "outputId": "24f9d398-6c2b-4eb3-fa3d-ae473a7fb73e"
      },
      "outputs": [
        {
          "output_type": "execute_result",
          "data": {
            "text/plain": [
              "Sequential(\n",
              "  (0): Linear(in_features=1, out_features=10, bias=True)\n",
              "  (1): Linear(in_features=10, out_features=10, bias=True)\n",
              "  (2): Linear(in_features=10, out_features=1, bias=True)\n",
              ")"
            ]
          },
          "metadata": {},
          "execution_count": 195
        }
      ],
      "source": [
        "# Same architecture as model_1 (but using nn.sequential)\n",
        "model_2 =  nn.Sequential(\n",
        "    nn.Linear(in_features=1, out_features = 10), # here we just take in_faetures=1 instead of 2\n",
        "    nn.Linear(in_features=10, out_features = 10),\n",
        "    nn.Linear(in_features=10, out_features=1)\n",
        ").to(device)\n",
        "\n",
        "model_2"
      ]
    },
    {
      "cell_type": "code",
      "execution_count": 196,
      "metadata": {
        "id": "0Lm3580v7Ocd"
      },
      "outputs": [],
      "source": [
        "# Loss and optimizer\n",
        "loss_fn= nn.L1Loss() # here we use nn.L1Loss() cause we want to take it as linear regression problem\n",
        "\n",
        "# setup an optimizer\n",
        "optimizer = torch.optim.SGD(model_2.parameters(),\n",
        "                            lr = 0.01)"
      ]
    },
    {
      "cell_type": "code",
      "execution_count": 197,
      "metadata": {
        "colab": {
          "base_uri": "https://localhost:8080/"
        },
        "id": "FH2lWMaiFPrs",
        "outputId": "ac4fe08d-e8b0-49f4-c1ca-21df05259090"
      },
      "outputs": [
        {
          "output_type": "stream",
          "name": "stdout",
          "text": [
            "Epoch: 0 | Train loss: 0.75986, Test loss: 0.91103\n",
            "Epoch: 100 | Train loss: 0.02858, Test loss: 0.00081\n",
            "Epoch: 200 | Train loss: 0.02533, Test loss: 0.00209\n",
            "Epoch: 300 | Train loss: 0.02137, Test loss: 0.00305\n",
            "Epoch: 400 | Train loss: 0.01964, Test loss: 0.00341\n",
            "Epoch: 500 | Train loss: 0.01940, Test loss: 0.00387\n",
            "Epoch: 600 | Train loss: 0.01903, Test loss: 0.00379\n",
            "Epoch: 700 | Train loss: 0.01878, Test loss: 0.00381\n",
            "Epoch: 800 | Train loss: 0.01840, Test loss: 0.00329\n",
            "Epoch: 900 | Train loss: 0.01798, Test loss: 0.00360\n"
          ]
        }
      ],
      "source": [
        "# Train the model\n",
        "torch.manual_seed(42)\n",
        "torch.cuda.manual_seed(42)\n",
        "\n",
        "# Set the number of epochs\n",
        "epochs = 1000\n",
        "\n",
        "# Put data to target device\n",
        "X_train_regression, y_train_regression = X_train_regression.to(device), y_train_regression.to(device)\n",
        "X_test_regression, y_test_regression = X_test_regression.to(device), y_test_regression.to(device)\n",
        "\n",
        "for epoch in range(epochs):\n",
        "    ### Training \n",
        "    model_2.train()\n",
        "    # 1. Forward pass\n",
        "    y_pred_regression = model_2(X_train_regression)\n",
        "    \n",
        "    # 2. Calculate loss (no accuracy since it's a regression problem, not classification)\n",
        "    loss = loss_fn(y_pred_regression, y_train_regression)\n",
        "\n",
        "    # 3. Optimizer zero grad\n",
        "    optimizer.zero_grad()\n",
        "\n",
        "    # 4. Loss backwards\n",
        "    loss.backward()\n",
        "\n",
        "    # 5. Optimizer step\n",
        "    optimizer.step()\n",
        "\n",
        "    ### Testing\n",
        "    model_2.eval()\n",
        "    with torch.inference_mode():\n",
        "      # 1. Forward pass\n",
        "      test_pred_regression = model_2(X_test_regression)\n",
        "      # 2. Calculate the loss \n",
        "      test_loss_regression = loss_fn(test_pred_regression, y_test_regression)\n",
        "\n",
        "    # Print out what's happening\n",
        "    if epoch % 100 == 0: \n",
        "        print(f\"Epoch: {epoch} | Train loss: {loss:.5f}, Test loss: {test_loss_regression:.5f}\")"
      ]
    },
    {
      "cell_type": "code",
      "source": [],
      "metadata": {
        "id": "Yyu1pPE0qK1M"
      },
      "execution_count": 197,
      "outputs": []
    }
  ],
  "metadata": {
    "accelerator": "GPU",
    "colab": {
      "provenance": [],
      "authorship_tag": "ABX9TyONIx+wFOSr96+SOf80Xwn5",
      "include_colab_link": true
    },
    "gpuClass": "standard",
    "kernelspec": {
      "display_name": "Python 3",
      "name": "python3"
    },
    "language_info": {
      "name": "python"
    }
  },
  "nbformat": 4,
  "nbformat_minor": 0
}